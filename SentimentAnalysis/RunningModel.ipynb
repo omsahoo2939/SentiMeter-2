{
 "cells": [
  {
   "cell_type": "code",
   "execution_count": null,
   "metadata": {},
   "outputs": [],
   "source": [
    "# running model \n",
    "import joblib\n",
    "model = joblib.load('sentiment_model.pkl')\n",
    "vectorizer = joblib.load('vectroizer.pkl')\n",
    "\n"
   ]
  }
 ],
 "metadata": {
  "language_info": {
   "name": "python"
  }
 },
 "nbformat": 4,
 "nbformat_minor": 2
}
