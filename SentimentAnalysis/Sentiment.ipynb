{
 "cells": [
  {
   "cell_type": "code",
   "execution_count": null,
   "metadata": {},
   "outputs": [
    {
     "ename": "",
     "evalue": "",
     "output_type": "error",
     "traceback": [
      "\u001b[1;31mFailed to start the Kernel. \n",
      "\u001b[1;31mUnable to start Kernel 'Python 3.12.3' due to a timeout waiting for the ports to get used. \n",
      "\u001b[1;31mView Jupyter <a href='command:jupyter.viewOutput'>log</a> for further details."
     ]
    }
   ],
   "source": [
    "import pandas as pd\n",
    "import json\n",
    "from sklearn.feature_extraction.text import TfidfVectorizer\n",
    "from sklearn.model_selection import train_test_split, GridSearchCV\n",
    "from sklearn.linear_model import LogisticRegression\n",
    "from sklearn.metrics import accuracy_score, classification_report\n",
    "from sklearn.utils import resample\n",
    "import joblib\n",
    "import re\n",
    "from nltk.corpus import stopwords\n",
    "from nltk.stem import WordNetLemmatizer\n",
    "\n",
    "import nltk\n",
    "nltk.download('wordnet')\n",
    "nltk.download('stopwords') \n",
    "print(\"Loading JSON data...\")\n",
    "with open('feedback_data.json', 'r') as f:\n",
    "    data = json.load(f)\n",
    "\n",
    "\n",
    "df = pd.DataFrame(data)\n",
    "print(\"Data loaded successfully.\\n\")\n",
    "\n",
    "print(\"Here are the first few rows of the DataFrame:\")\n",
    "print(df.head())\n",
    "\n",
    "print(\"\\nChecking for missing values...\")\n",
    "print(df.isnull().sum())\n",
    "\n",
    "print(\"\\nDistribution of sentiment labels:\")\n",
    "print(df['sentiment'].value_counts())\n",
    "\n",
    "def clean_text(text):\n",
    "    text = re.sub(r'[^a-zA-Z\\s]', '', text)\n",
    "    text = text.lower()\n",
    "    stop_words = set(stopwords.words('english'))\n",
    "    text = ' '.join(word for word in text.split() if word not in stop_words)\n",
    "    lemmatizer = WordNetLemmatizer()\n",
    "    text = ' '.join(lemmatizer.lemmatize(word) for word in text.split())\n",
    "    return text\n",
    "print(\"\\nApplying data cleaning steps...\")\n",
    "df['feedback'] = df['feedback'].apply(clean_text)\n",
    "print(\"Data cleaning completed.\\n\")\n",
    "\n",
    "print(\"\\nInitializing TF-IDF Vectorizer...\")\n",
    "vectorizer = TfidfVectorizer(ngram_range=(1, 2))\n",
    "\n",
    "print(\"Vectorizing cleaned feedback text data...\")\n",
    "X = vectorizer.fit_transform(df['feedback'])\n",
    "print(\"Feedback text vectorized.\")\n",
    "print(f\"Shape of the tokenized data: {X.shape}\\n\")\n",
    "\n",
    "y = df['sentiment']\n",
    "print(f\"Target variable (y) values:\\n{y.value_counts()}\\n\")\n",
    "\n",
    "df_majority = df[df.sentiment == 'positive']\n",
    "df_minority = df[df.sentiment == 'negative']\n",
    "\n",
    "df_minority_upsampled = resample(df_minority, \n",
    "                                  replace=True,     \n",
    "                                  n_samples=len(df_majority),   \n",
    "                                  random_state=42) \n",
    "\n",
    "df_upsampled = pd.concat([df_majority, df_minority_upsampled])\n",
    "\n",
    "print(\"\\nNew distribution of sentiment labels after upsampling:\")\n",
    "print(df_upsampled['sentiment'].value_counts())\n",
    "\n",
    "X = vectorizer.transform(df_upsampled['feedback'])\n",
    "y = df_upsampled['sentiment']\n",
    "\n",
    "\n",
    "print(\"Splitting data into training and testing sets...\")\n",
    "X_train, X_test, y_train, y_test = train_test_split(X, y, test_size=0.2, random_state=42)\n",
    "print(f\"Training set size: {X_train.shape}, Testing set size: {X_test.shape}\\n\")\n",
    "\n",
    "print(\"Initializing the Logistic Regression model...\")\n",
    "model = LogisticRegression(max_iter=1000)\n",
    "\n",
    "params = {'C': [0.1, 1, 10, 100]}\n",
    "grid_search = GridSearchCV(model, param_grid=params, cv=5)\n",
    "print(\"Training the model with Grid Search...\")\n",
    "grid_search.fit(X_train, y_train)\n",
    "best_model = grid_search.best_estimator_\n",
    "print(\"Model training completed.\\n\")\n",
    "\n",
    "print(\"Making predictions on the test set...\")\n",
    "y_pred = best_model.predict(X_test)\n",
    "print(\"Predictions completed.\\n\")\n",
    "\n",
    "accuracy = accuracy_score(y_test, y_pred)\n",
    "print(f\"Model Accuracy: {accuracy:.2f}\")\n",
    "print(\"\\nClassification Report:\")\n",
    "print(classification_report(y_test, y_pred))\n",
    "\n",
    "print(\"Saving the model as 'sentiment_model.pkl'...\")\n",
    "joblib.dump(best_model, 'sentiment_model.pkl')\n",
    "print(\"Model saved.\\n\")\n",
    "\n",
    "print(\"Saving the vectorizer as 'vectorizer.pkl'...\")\n",
    "joblib.dump(vectorizer, 'vectorizer.pkl')\n",
    "print(\"Vectorizer saved.\\n\")\n"
   ]
  },
  {
   "cell_type": "code",
   "execution_count": null,
   "metadata": {},
   "outputs": [],
   "source": []
  },
  {
   "cell_type": "code",
   "execution_count": null,
   "metadata": {},
   "outputs": [
    {
     "ename": "",
     "evalue": "",
     "output_type": "error",
     "traceback": [
      "\u001b[1;31mFailed to start the Kernel. \n",
      "\u001b[1;31mUnable to start Kernel 'Python 3.12.3' due to a timeout waiting for the ports to get used. \n",
      "\u001b[1;31mView Jupyter <a href='command:jupyter.viewOutput'>log</a> for further details."
     ]
    }
   ],
   "source": [
    "print(X_test)"
   ]
  }
 ],
 "metadata": {
  "kernelspec": {
   "display_name": "Python 3 (ipykernel)",
   "language": "python",
   "name": "python3"
  },
  "language_info": {
   "codemirror_mode": {
    "name": "ipython",
    "version": 3
   },
   "file_extension": ".py",
   "mimetype": "text/x-python",
   "name": "python",
   "nbconvert_exporter": "python",
   "pygments_lexer": "ipython3",
   "version": "3.12.3"
  }
 },
 "nbformat": 4,
 "nbformat_minor": 4
}
