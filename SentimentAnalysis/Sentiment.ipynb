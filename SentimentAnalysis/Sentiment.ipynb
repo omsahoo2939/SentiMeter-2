{
 "cells": [
  {
   "cell_type": "code",
   "execution_count": null,
   "metadata": {},
   "outputs": [],
   "source": [
    "import pandas as pd\n",
    "#load the data \n",
    "data = pd.read_csv(\"feedback_data.csv\")\n",
    "# checking the first few rows \n",
    "print(data.head())\n",
    "# checking the distribution of the labels\n",
    "print(data['label'].value_counts())"
   ]
  },
  {
   "cell_type": "code",
   "execution_count": null,
   "metadata": {},
   "outputs": [],
   "source": [
    "from sklearn.feature_extraction.text import CountVectorizer\n",
    "#initializing the vecortizer\n",
    "vectorizer = CountVectorizer()\n",
    "# fit and transform the content colum\n",
    "X = vectorizer.fit_transform(data['content'])\n",
    "# check the shape of the matrix\n",
    "print(X.shape)"
   ]
  },
  {
   "cell_type": "code",
   "execution_count": null,
   "metadata": {},
   "outputs": [],
   "source": [
    "from sklearn.model_selection import train_test_split\n",
    "# define the targert variable as the label \n",
    "y = data['label']\n",
    "# training testing split\n",
    "X_train, X_test, y_train, y_test = train_test_split(X,y,test_size=0.2, random_state=42)\n",
    "# checking the size \n",
    "print(X_train.shape, X_test.shape)"
   ]
  },
  {
   "cell_type": "code",
   "execution_count": null,
   "metadata": {},
   "outputs": [],
   "source": [
    "from sklearn.naive_bayes import MultinomialNB\n",
    "#initalizinf \n",
    "model = MultinomialNB()\n",
    "#Train the model \n",
    "model.fit(X_train, y_train)\n",
    "# testing\n",
    "y_pred = model.predict(X_test)\n",
    "# eval model performance\n",
    "from sklearn.metrics import accuracy_score, classification_report\n",
    "print(\"Accuracy:{accuracy_score(y_test,y_pred)}\")\n",
    "print(classification_report(y_test,y_pred))"
   ]
  },
  {
   "cell_type": "code",
   "execution_count": null,
   "metadata": {},
   "outputs": [],
   "source": [
    "# just shell do this using pickle\n",
    "import joblib\n",
    "#save trained model\n",
    "joblib.dump(model, 'sentiment_model_pkl')\n",
    "joblib.dump(vectorizer, 'vectorizer.pkl')\n",
    "print(\"Model and vectorizer saved!\")"
   ]
  }
 ],
 "metadata": {
  "language_info": {
   "name": "python"
  }
 },
 "nbformat": 4,
 "nbformat_minor": 2
}
