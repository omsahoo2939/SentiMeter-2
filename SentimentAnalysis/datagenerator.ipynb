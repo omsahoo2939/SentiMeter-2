{
 "cells": [
  {
   "cell_type": "code",
   "execution_count": 4,
   "id": "56487f59-7631-42f7-be97-4af1ddf0431a",
   "metadata": {},
   "outputs": [
    {
     "name": "stdout",
     "output_type": "stream",
     "text": [
      "Saved 3000 dummy feedback records to 'feedback_data.json'.\n"
     ]
    }
   ],
   "source": [
    "import json\n",
    "import random\n",
    "\n",
    "positive_feedback = [\n",
    "    \"I love the work environment here.\",\n",
    "    \"The benefits package is great!\",\n",
    "    \"I feel valued by my team.\",\n",
    "    \"The project is really interesting.\",\n",
    "    \"I'm learning a lot from my manager.\",\n",
    "    \"I appreciate the team's collaboration.\",\n",
    "    \"The office space is fantastic.\",\n",
    "    \"I feel like my contributions are recognized.\",\n",
    "    \"This company truly cares about its employees.\",\n",
    "    \"The flexible work hours are amazing.\",\n",
    "    \"The team spirit is exceptional.\",\n",
    "    \"I feel motivated to come to work every day.\",\n",
    "    \"I enjoy working with my colleagues.\",\n",
    "    \"The training and development opportunities are great.\",\n",
    "    \"I love the positive company culture.\",\n",
    "    \"I’m growing professionally in this role.\",\n",
    "    \"The leadership team is supportive.\",\n",
    "    \"I feel empowered to share my ideas.\",\n",
    "    \"The company’s mission aligns with my personal values.\",\n",
    "    \"The perks, like free lunches and events, are awesome.\"\n",
    "]\n",
    "\n",
    "negative_feedback = [\n",
    "    \"The workload is too much.\",\n",
    "    \"I don't feel supported by my team.\",\n",
    "    \"The benefits are lacking.\",\n",
    "    \"This project is too stressful.\",\n",
    "    \"I feel like I'm not growing in this role.\",\n",
    "    \"The work-life balance is terrible.\",\n",
    "    \"The management doesn’t listen to feedback.\",\n",
    "    \"There is a lack of career growth opportunities.\",\n",
    "    \"I feel overworked and underappreciated.\",\n",
    "    \"The company's communication is poor.\",\n",
    "    \"There are too many unrealistic deadlines.\",\n",
    "    \"I don’t feel valued for my hard work.\",\n",
    "    \"The salary is not competitive.\",\n",
    "    \"There’s no room for innovation here.\",\n",
    "    \"The team morale is very low.\",\n",
    "    \"I’m unhappy with the way conflicts are handled.\",\n",
    "    \"The office environment is toxic.\",\n",
    "    \"I feel like the company doesn’t care about employees.\",\n",
    "    \"There’s no clear direction from leadership.\",\n",
    "    \"The tools and technology we use are outdated.\"\n",
    "]\n",
    "\n",
    "records = []\n",
    "\n",
    "for _ in range(1500):\n",
    "    records.append({\"feedback\": random.choice(positive_feedback), \"sentiment\": \"positive\"})\n",
    "for _ in range(1500):\n",
    "    records.append({\"feedback\": random.choice(negative_feedback), \"sentiment\": \"negative\"})\n",
    "\n",
    "random.shuffle(records)\n",
    "\n",
    "with open('feedback_data.json', 'w') as file:\n",
    "    json.dump(records, file, indent=4)\n",
    "\n",
    "print(\"Saved 3000 dummy feedback records to 'feedback_data.json'.\")\n"
   ]
  },
  {
   "cell_type": "code",
   "execution_count": null,
   "id": "da850b7d-98f6-4b64-be9f-ed55e87af934",
   "metadata": {},
   "outputs": [],
   "source": []
  }
 ],
 "metadata": {
  "kernelspec": {
   "display_name": "Python 3 (ipykernel)",
   "language": "python",
   "name": "python3"
  },
  "language_info": {
   "codemirror_mode": {
    "name": "ipython",
    "version": 3
   },
   "file_extension": ".py",
   "mimetype": "text/x-python",
   "name": "python",
   "nbconvert_exporter": "python",
   "pygments_lexer": "ipython3",
   "version": "3.9.4"
  }
 },
 "nbformat": 4,
 "nbformat_minor": 5
}
